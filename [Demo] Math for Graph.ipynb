{
 "cells": [
  {
   "cell_type": "markdown",
   "metadata": {},
   "source": [
    "# 產生鄰接矩陣adj"
   ]
  },
  {
   "cell_type": "code",
   "execution_count": 2,
   "metadata": {
    "ExecuteTime": {
     "end_time": "2021-05-05T08:44:37.964914Z",
     "start_time": "2021-05-05T08:44:37.952975Z"
    }
   },
   "outputs": [
    {
     "name": "stdout",
     "output_type": "stream",
     "text": [
      "[[0. 1. 0. 0. 0.]\n",
      " [1. 0. 1. 0. 0.]\n",
      " [0. 1. 0. 1. 1.]\n",
      " [0. 0. 1. 0. 0.]\n",
      " [0. 0. 1. 0. 0.]]\n"
     ]
    }
   ],
   "source": [
    "import numpy as np\n",
    "import scipy.sparse as sp\n",
    "\n",
    "from math_graph import get_adj\n",
    "\n",
    "edges = [(0, 1), (1, 2), (2, 3), (2, 4)]\n",
    "num_nodes = 5\n",
    "\n",
    "adj = get_adj(edges, num_nodes)\n",
    "print(adj.toarray())"
   ]
  },
  {
   "cell_type": "code",
   "execution_count": 7,
   "metadata": {
    "ExecuteTime": {
     "end_time": "2021-05-05T08:46:34.850935Z",
     "start_time": "2021-05-05T08:46:34.830989Z"
    }
   },
   "outputs": [
    {
     "name": "stdout",
     "output_type": "stream",
     "text": [
      "[[0 1]\n",
      " [1 2]\n",
      " [2 3]\n",
      " [2 4]]\n"
     ]
    }
   ],
   "source": [
    "import numpy as np\n",
    "import scipy.sparse as sp\n",
    "\n",
    "from math_graph import get_edges\n",
    "\n",
    "edges = get_edges(adj)\n",
    "print(edges)"
   ]
  },
  {
   "cell_type": "markdown",
   "metadata": {},
   "source": [
    "# 從 adj 計算出 D^(-0.5) @ (I+adj) @D^(-0.5)"
   ]
  },
  {
   "cell_type": "code",
   "execution_count": 3,
   "metadata": {
    "ExecuteTime": {
     "end_time": "2021-05-05T08:44:37.995830Z",
     "start_time": "2021-05-05T08:44:37.967907Z"
    },
    "hide_input": false
   },
   "outputs": [
    {
     "name": "stdout",
     "output_type": "stream",
     "text": [
      "[[0.5        0.40824829 0.         0.         0.        ]\n",
      " [0.40824829 0.33333333 0.28867513 0.         0.        ]\n",
      " [0.         0.28867513 0.25       0.35355339 0.35355339]\n",
      " [0.         0.         0.35355339 0.5        0.        ]\n",
      " [0.         0.         0.35355339 0.         0.5       ]]\n"
     ]
    }
   ],
   "source": [
    "import numpy as np\n",
    "import scipy.sparse as sp\n",
    "\n",
    "from math_graph import get_adj\n",
    "from math_graph import get_sp_DAD\n",
    "\n",
    "edges = [(0, 1), (1, 2), (2, 3), (2, 4)]\n",
    "num_nodes = 5\n",
    "\n",
    "adj = get_adj(edges, num_nodes)\n",
    "DAD = get_sp_DAD(adj)\n",
    "print(DAD.toarray())"
   ]
  },
  {
   "cell_type": "markdown",
   "metadata": {
    "ExecuteTime": {
     "end_time": "2021-05-05T05:46:14.192492Z",
     "start_time": "2021-05-05T05:46:14.180524Z"
    }
   },
   "source": [
    "# 從 adj 計算出 正規化拉普拉斯 L_norm"
   ]
  },
  {
   "cell_type": "code",
   "execution_count": 1,
   "metadata": {
    "ExecuteTime": {
     "end_time": "2021-05-05T10:11:59.636829Z",
     "start_time": "2021-05-05T10:11:59.487058Z"
    }
   },
   "outputs": [
    {
     "name": "stdout",
     "output_type": "stream",
     "text": [
      "[[ 0.5        -0.40824829  0.          0.          0.        ]\n",
      " [-0.40824829  0.66666667 -0.28867513  0.          0.        ]\n",
      " [ 0.         -0.28867513  0.75       -0.35355339 -0.35355339]\n",
      " [ 0.          0.         -0.35355339  0.5         0.        ]\n",
      " [ 0.          0.         -0.35355339  0.          0.5       ]]\n"
     ]
    }
   ],
   "source": [
    "import numpy as np\n",
    "import scipy.sparse as sp\n",
    "\n",
    "from math_graph import get_adj\n",
    "from math_graph import get_sp_L_norm_from_adj\n",
    "\n",
    "edges = [(0, 1), (1, 2), (2, 3), (2, 4)]\n",
    "num_nodes = 5\n",
    "\n",
    "adj = get_adj(edges, num_nodes)\n",
    "L_norm = get_sp_L_norm_from_adj(adj)\n",
    "print(L_norm.toarray())"
   ]
  },
  {
   "cell_type": "code",
   "execution_count": 22,
   "metadata": {
    "ExecuteTime": {
     "end_time": "2021-05-05T10:30:50.873280Z",
     "start_time": "2021-05-05T10:30:50.860316Z"
    }
   },
   "outputs": [
    {
     "name": "stdout",
     "output_type": "stream",
     "text": [
      "(array([1.27953024]), array([[ 0.2627948 ],\n",
      "       [-0.50179388],\n",
      "       [ 0.69367133],\n",
      "       [-0.31461236],\n",
      "       [-0.31461236]]))\n",
      "(array([1.27953024]), array([[ 0.2627948 ],\n",
      "       [-0.50179388],\n",
      "       [ 0.69367133],\n",
      "       [-0.31461236],\n",
      "       [-0.31461236]]))\n"
     ]
    }
   ],
   "source": [
    "print(sp.linalg.eigen.arpack.eigsh(L_norm, k=1, which='LM'))\n",
    "\n",
    "print(sp.linalg.eigsh(L_norm, k=1, which='LM'))"
   ]
  },
  {
   "cell_type": "markdown",
   "metadata": {},
   "source": [
    "# 將 L_norm 做chebyshev輸入的正規化"
   ]
  },
  {
   "cell_type": "code",
   "execution_count": 5,
   "metadata": {
    "ExecuteTime": {
     "end_time": "2021-05-05T08:44:38.042798Z",
     "start_time": "2021-05-05T08:44:38.014781Z"
    }
   },
   "outputs": [
    {
     "name": "stdout",
     "output_type": "stream",
     "text": [
      "[[ 0.         -0.70710677  0.          0.          0.        ]\n",
      " [-0.70710677  0.         -0.40824828  0.          0.        ]\n",
      " [ 0.         -0.40824828  0.         -0.57735026 -0.57735026]\n",
      " [ 0.          0.         -0.57735026  0.          0.        ]\n",
      " [ 0.          0.         -0.57735026  0.          0.        ]]\n"
     ]
    }
   ],
   "source": [
    "import numpy as np\n",
    "import scipy.sparse as sp\n",
    "\n",
    "from math_graph import get_adj\n",
    "from math_graph import get_sp_L_chebyshev_norm_from_adj\n",
    "\n",
    "edges = [(0, 1), (1, 2), (2, 3), (2, 4)]\n",
    "num_nodes = 5\n",
    "\n",
    "adj = get_adj(edges, num_nodes)\n",
    "L_chebyshev_norm = get_sp_L_chebyshev_norm_from_adj(adj)\n",
    "print(L_chebyshev_norm.toarray())"
   ]
  },
  {
   "cell_type": "code",
   "execution_count": null,
   "metadata": {},
   "outputs": [],
   "source": []
  }
 ],
 "metadata": {
  "kernelspec": {
   "display_name": "Python 3",
   "language": "python",
   "name": "python3"
  },
  "language_info": {
   "codemirror_mode": {
    "name": "ipython",
    "version": 3
   },
   "file_extension": ".py",
   "mimetype": "text/x-python",
   "name": "python",
   "nbconvert_exporter": "python",
   "pygments_lexer": "ipython3",
   "version": "3.8.5"
  },
  "varInspector": {
   "cols": {
    "lenName": 16,
    "lenType": 16,
    "lenVar": 40
   },
   "kernels_config": {
    "python": {
     "delete_cmd_postfix": "",
     "delete_cmd_prefix": "del ",
     "library": "var_list.py",
     "varRefreshCmd": "print(var_dic_list())"
    },
    "r": {
     "delete_cmd_postfix": ") ",
     "delete_cmd_prefix": "rm(",
     "library": "var_list.r",
     "varRefreshCmd": "cat(var_dic_list()) "
    }
   },
   "types_to_exclude": [
    "module",
    "function",
    "builtin_function_or_method",
    "instance",
    "_Feature"
   ],
   "window_display": false
  }
 },
 "nbformat": 4,
 "nbformat_minor": 4
}
