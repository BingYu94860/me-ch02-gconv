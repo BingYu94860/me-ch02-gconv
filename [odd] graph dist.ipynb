{
 "cells": [
  {
   "cell_type": "code",
   "execution_count": 1,
   "metadata": {
    "ExecuteTime": {
     "end_time": "2021-05-16T18:37:38.447619Z",
     "start_time": "2021-05-16T18:37:36.508746Z"
    }
   },
   "outputs": [],
   "source": [
    "import tensorflow as tf\n",
    "import numpy as np\n",
    "import scipy.sparse as sp\n",
    "\n",
    "def get_adj(edges: list, num_nodes: int):\n",
    "    e_rows, e_cols = np.array(edges, dtype=np.int).transpose()\n",
    "    values = np.ones(shape=(len(e_rows), ), dtype=np.float32)\n",
    "    adj = sp.coo_matrix((values, (e_rows, e_cols)),\n",
    "                        shape=[num_nodes, num_nodes])\n",
    "    # triu adj --> adj\n",
    "    adj.setdiag(0)\n",
    "    bigger = adj.T > adj\n",
    "    adj = adj - adj.multiply(bigger) + adj.T.multiply(bigger)\n",
    "    return adj"
   ]
  },
  {
   "cell_type": "code",
   "execution_count": 2,
   "metadata": {
    "ExecuteTime": {
     "end_time": "2021-05-16T18:37:38.462833Z",
     "start_time": "2021-05-16T18:37:38.448616Z"
    }
   },
   "outputs": [
    {
     "name": "stdout",
     "output_type": "stream",
     "text": [
      "[[ 0.  1. inf inf inf inf inf inf inf inf]\n",
      " [ 1.  0.  1. inf inf inf inf inf inf inf]\n",
      " [inf  1.  0.  1. inf inf inf inf inf inf]\n",
      " [inf inf  1.  0.  1. inf inf inf inf inf]\n",
      " [inf inf inf  1.  0.  1. inf inf inf inf]\n",
      " [inf inf inf inf  1.  0. inf inf inf inf]\n",
      " [inf inf inf inf inf inf  0.  1. inf inf]\n",
      " [inf inf inf inf inf inf  1.  0.  1. inf]\n",
      " [inf inf inf inf inf inf inf  1.  0.  1.]\n",
      " [inf inf inf inf inf inf inf inf  1.  0.]]\n",
      "[[ 0.  1.  2. inf inf inf inf inf inf inf]\n",
      " [ 1.  0.  1.  2. inf inf inf inf inf inf]\n",
      " [ 2.  1.  0.  1.  2. inf inf inf inf inf]\n",
      " [inf  2.  1.  0.  1.  2. inf inf inf inf]\n",
      " [inf inf  2.  1.  0.  1. inf inf inf inf]\n",
      " [inf inf inf  2.  1.  0. inf inf inf inf]\n",
      " [inf inf inf inf inf inf  0.  1.  2. inf]\n",
      " [inf inf inf inf inf inf  1.  0.  1.  2.]\n",
      " [inf inf inf inf inf inf  2.  1.  0.  1.]\n",
      " [inf inf inf inf inf inf inf  2.  1.  0.]]\n",
      "[[ 0.  1.  2.  3.  4. inf inf inf inf inf]\n",
      " [ 1.  0.  1.  2.  3.  4. inf inf inf inf]\n",
      " [ 2.  1.  0.  1.  2.  3. inf inf inf inf]\n",
      " [ 3.  2.  1.  0.  1.  2. inf inf inf inf]\n",
      " [ 4.  3.  2.  1.  0.  1. inf inf inf inf]\n",
      " [inf  4.  3.  2.  1.  0. inf inf inf inf]\n",
      " [inf inf inf inf inf inf  0.  1.  2.  3.]\n",
      " [inf inf inf inf inf inf  1.  0.  1.  2.]\n",
      " [inf inf inf inf inf inf  2.  1.  0.  1.]\n",
      " [inf inf inf inf inf inf  3.  2.  1.  0.]]\n",
      "[[ 0.  1.  2.  3.  4.  5. inf inf inf inf]\n",
      " [ 1.  0.  1.  2.  3.  4. inf inf inf inf]\n",
      " [ 2.  1.  0.  1.  2.  3. inf inf inf inf]\n",
      " [ 3.  2.  1.  0.  1.  2. inf inf inf inf]\n",
      " [ 4.  3.  2.  1.  0.  1. inf inf inf inf]\n",
      " [ 5.  4.  3.  2.  1.  0. inf inf inf inf]\n",
      " [inf inf inf inf inf inf  0.  1.  2.  3.]\n",
      " [inf inf inf inf inf inf  1.  0.  1.  2.]\n",
      " [inf inf inf inf inf inf  2.  1.  0.  1.]\n",
      " [inf inf inf inf inf inf  3.  2.  1.  0.]]\n"
     ]
    }
   ],
   "source": [
    "W = get_adj([(0, 1), (1, 2), (2, 3), (3, 4), (4, 5), (6, 7), (7, 8), (8, 9)], 10).toarray()\n",
    "\n",
    "W[W == 0] = -1\n",
    "W = W + np.identity(W.shape[0])\n",
    "W[W == -1] = float('inf')\n",
    "\n",
    "# W[np.isinf(W)] = -1\n",
    "# W[W == -1] = float('inf')\n",
    "\n",
    "print(W)\n",
    "W = np.min(np.expand_dims(W, 0)+np.expand_dims(W, 2), 1)\n",
    "print(W)\n",
    "W = np.min(np.expand_dims(W, 0)+np.expand_dims(W, 2), 1)\n",
    "print(W)\n",
    "W = np.min(np.expand_dims(W, 0)+np.expand_dims(W, 2), 1)\n",
    "print(W)"
   ]
  },
  {
   "cell_type": "code",
   "execution_count": 3,
   "metadata": {
    "ExecuteTime": {
     "end_time": "2021-05-16T18:37:38.478797Z",
     "start_time": "2021-05-16T18:37:38.465826Z"
    }
   },
   "outputs": [
    {
     "name": "stdout",
     "output_type": "stream",
     "text": [
      "[ 0.  1.  2.  3.  4.  5. inf inf inf inf]\n",
      "[ 1.  0.  1.  2.  3.  4. inf inf inf inf]\n",
      "[ 2.  1.  0.  1.  2.  3. inf inf inf inf]\n",
      "[ 3.  2.  1.  0.  1.  2. inf inf inf inf]\n",
      "[ 4.  3.  2.  1.  0.  1. inf inf inf inf]\n",
      "[ 5.  4.  3.  2.  1.  0. inf inf inf inf]\n",
      "[inf inf inf inf inf inf  0.  1.  2.  3.]\n",
      "[inf inf inf inf inf inf  1.  0.  1.  2.]\n",
      "[inf inf inf inf inf inf  2.  1.  0.  1.]\n",
      "[inf inf inf inf inf inf  3.  2.  1.  0.]\n",
      "\n"
     ]
    },
    {
     "data": {
      "text/plain": [
       "array([[ 0.,  1.,  2.,  3.,  4.,  5., inf, inf, inf, inf],\n",
       "       [ 1.,  0.,  1.,  2.,  3.,  4., inf, inf, inf, inf],\n",
       "       [ 2.,  1.,  0.,  1.,  2.,  3., inf, inf, inf, inf],\n",
       "       [ 3.,  2.,  1.,  0.,  1.,  2., inf, inf, inf, inf],\n",
       "       [ 4.,  3.,  2.,  1.,  0.,  1., inf, inf, inf, inf],\n",
       "       [ 5.,  4.,  3.,  2.,  1.,  0., inf, inf, inf, inf],\n",
       "       [inf, inf, inf, inf, inf, inf,  0.,  1.,  2.,  3.],\n",
       "       [inf, inf, inf, inf, inf, inf,  1.,  0.,  1.,  2.],\n",
       "       [inf, inf, inf, inf, inf, inf,  2.,  1.,  0.,  1.],\n",
       "       [inf, inf, inf, inf, inf, inf,  3.,  2.,  1.,  0.]])"
      ]
     },
     "execution_count": 3,
     "metadata": {},
     "output_type": "execute_result"
    }
   ],
   "source": [
    "for iw in W:\n",
    "    iw = iw.reshape([-1,1])+W\n",
    "    # print(iw)\n",
    "    iw = np.min(iw, axis=0)\n",
    "    print(iw)\n",
    "\n",
    "print()\n",
    "np.min(np.expand_dims(W, 0)+np.expand_dims(W, 2), 1)"
   ]
  },
  {
   "cell_type": "code",
   "execution_count": 4,
   "metadata": {
    "ExecuteTime": {
     "end_time": "2021-05-16T18:37:38.494748Z",
     "start_time": "2021-05-16T18:37:38.479787Z"
    }
   },
   "outputs": [
    {
     "name": "stdout",
     "output_type": "stream",
     "text": [
      "[ 0.  1.  2.  3.  4.  5. inf inf inf inf]\n",
      "[ 1.  0.  1.  2.  3.  4. inf inf inf inf]\n",
      "[ 2.  1.  0.  1.  2.  3. inf inf inf inf]\n",
      "[ 3.  2.  1.  0.  1.  2. inf inf inf inf]\n",
      "[ 4.  3.  2.  1.  0.  1. inf inf inf inf]\n",
      "[ 5.  4.  3.  2.  1.  0. inf inf inf inf]\n",
      "[inf inf inf inf inf inf  0.  1.  2.  3.]\n",
      "[inf inf inf inf inf inf  1.  0.  1.  2.]\n",
      "[inf inf inf inf inf inf  2.  1.  0.  1.]\n",
      "[inf inf inf inf inf inf  3.  2.  1.  0.]\n",
      "\n"
     ]
    },
    {
     "data": {
      "text/plain": [
       "array([[ 0.,  1.,  2.,  3.,  4.,  5., inf, inf, inf, inf],\n",
       "       [ 1.,  0.,  1.,  2.,  3.,  4., inf, inf, inf, inf],\n",
       "       [ 2.,  1.,  0.,  1.,  2.,  3., inf, inf, inf, inf],\n",
       "       [ 3.,  2.,  1.,  0.,  1.,  2., inf, inf, inf, inf],\n",
       "       [ 4.,  3.,  2.,  1.,  0.,  1., inf, inf, inf, inf],\n",
       "       [ 5.,  4.,  3.,  2.,  1.,  0., inf, inf, inf, inf],\n",
       "       [inf, inf, inf, inf, inf, inf,  0.,  1.,  2.,  3.],\n",
       "       [inf, inf, inf, inf, inf, inf,  1.,  0.,  1.,  2.],\n",
       "       [inf, inf, inf, inf, inf, inf,  2.,  1.,  0.,  1.],\n",
       "       [inf, inf, inf, inf, inf, inf,  3.,  2.,  1.,  0.]])"
      ]
     },
     "execution_count": 4,
     "metadata": {},
     "output_type": "execute_result"
    }
   ],
   "source": [
    "for iw in W:\n",
    "    iw = iw+W\n",
    "    #print(iw)\n",
    "    iw = np.min(iw, axis=1)\n",
    "    print(iw)\n",
    "\n",
    "print()\n",
    "np.min(np.expand_dims(W, 0)+np.expand_dims(W, 1), 2)"
   ]
  },
  {
   "cell_type": "markdown",
   "metadata": {},
   "source": [
    "# tensorflow"
   ]
  },
  {
   "cell_type": "code",
   "execution_count": 5,
   "metadata": {
    "ExecuteTime": {
     "end_time": "2021-05-16T18:37:39.166863Z",
     "start_time": "2021-05-16T18:37:38.495774Z"
    }
   },
   "outputs": [
    {
     "name": "stdout",
     "output_type": "stream",
     "text": [
      "tf.Tensor(\n",
      "[[ 0.  1. inf inf inf inf inf inf inf inf]\n",
      " [ 1.  0.  1. inf inf inf inf inf inf inf]\n",
      " [inf  1.  0.  1. inf inf inf inf inf inf]\n",
      " [inf inf  1.  0.  1. inf inf inf inf inf]\n",
      " [inf inf inf  1.  0.  1. inf inf inf inf]\n",
      " [inf inf inf inf  1.  0. inf inf inf inf]\n",
      " [inf inf inf inf inf inf  0.  1. inf inf]\n",
      " [inf inf inf inf inf inf  1.  0.  1. inf]\n",
      " [inf inf inf inf inf inf inf  1.  0.  1.]\n",
      " [inf inf inf inf inf inf inf inf  1.  0.]], shape=(10, 10), dtype=float32)\n",
      "tf.Tensor(\n",
      "[[ 0.  1.  2. inf inf inf inf inf inf inf]\n",
      " [ 1.  0.  1.  2. inf inf inf inf inf inf]\n",
      " [ 2.  1.  0.  1.  2. inf inf inf inf inf]\n",
      " [inf  2.  1.  0.  1.  2. inf inf inf inf]\n",
      " [inf inf  2.  1.  0.  1. inf inf inf inf]\n",
      " [inf inf inf  2.  1.  0. inf inf inf inf]\n",
      " [inf inf inf inf inf inf  0.  1.  2. inf]\n",
      " [inf inf inf inf inf inf  1.  0.  1.  2.]\n",
      " [inf inf inf inf inf inf  2.  1.  0.  1.]\n",
      " [inf inf inf inf inf inf inf  2.  1.  0.]], shape=(10, 10), dtype=float32)\n",
      "tf.Tensor(\n",
      "[[ 0.  1.  2.  3.  4. inf inf inf inf inf]\n",
      " [ 1.  0.  1.  2.  3.  4. inf inf inf inf]\n",
      " [ 2.  1.  0.  1.  2.  3. inf inf inf inf]\n",
      " [ 3.  2.  1.  0.  1.  2. inf inf inf inf]\n",
      " [ 4.  3.  2.  1.  0.  1. inf inf inf inf]\n",
      " [inf  4.  3.  2.  1.  0. inf inf inf inf]\n",
      " [inf inf inf inf inf inf  0.  1.  2.  3.]\n",
      " [inf inf inf inf inf inf  1.  0.  1.  2.]\n",
      " [inf inf inf inf inf inf  2.  1.  0.  1.]\n",
      " [inf inf inf inf inf inf  3.  2.  1.  0.]], shape=(10, 10), dtype=float32)\n",
      "tf.Tensor(\n",
      "[[ 0.  1.  2.  3.  4.  5. inf inf inf inf]\n",
      " [ 1.  0.  1.  2.  3.  4. inf inf inf inf]\n",
      " [ 2.  1.  0.  1.  2.  3. inf inf inf inf]\n",
      " [ 3.  2.  1.  0.  1.  2. inf inf inf inf]\n",
      " [ 4.  3.  2.  1.  0.  1. inf inf inf inf]\n",
      " [ 5.  4.  3.  2.  1.  0. inf inf inf inf]\n",
      " [inf inf inf inf inf inf  0.  1.  2.  3.]\n",
      " [inf inf inf inf inf inf  1.  0.  1.  2.]\n",
      " [inf inf inf inf inf inf  2.  1.  0.  1.]\n",
      " [inf inf inf inf inf inf  3.  2.  1.  0.]], shape=(10, 10), dtype=float32)\n"
     ]
    }
   ],
   "source": [
    "W = get_adj([(0, 1), (1, 2), (2, 3), (3, 4), (4, 5),  (6, 7), (7, 8), (8, 9)], 10).toarray()\n",
    "\n",
    "W[W == 0] = -1\n",
    "W = W + np.identity(W.shape[0])\n",
    "W[W == -1] = float('inf')\n",
    "W = W.astype('float32')\n",
    "\n",
    "W = tf.convert_to_tensor(W)\n",
    "\n",
    "print(W)\n",
    "#W = tf.reduce_min(tf.expand_dims(W, 0)+tf.expand_dims(W, 2), 1)\n",
    "W = tf.stack([tf.reduce_min(iw+W, 0) for iw in tf.expand_dims(W, 2)])\n",
    "print(W)\n",
    "#W = tf.reduce_min(tf.expand_dims(W, 0)+tf.expand_dims(W, 2), 1)\n",
    "W = tf.stack([tf.reduce_min(iw+W, 0) for iw in tf.expand_dims(W, 2)])\n",
    "print(W)\n",
    "#W = tf.reduce_min(tf.expand_dims(W, 0)+tf.expand_dims(W, 2), 1)\n",
    "W = tf.stack([tf.reduce_min(iw+W, 0) for iw in tf.expand_dims(W, 2)])\n",
    "print(W)"
   ]
  },
  {
   "cell_type": "code",
   "execution_count": 6,
   "metadata": {
    "ExecuteTime": {
     "end_time": "2021-05-16T18:37:39.198240Z",
     "start_time": "2021-05-16T18:37:39.168861Z"
    }
   },
   "outputs": [
    {
     "name": "stdout",
     "output_type": "stream",
     "text": [
      "tf.Tensor(\n",
      "[[ 0.  1.  2. inf inf inf inf inf inf inf]\n",
      " [ 1.  0.  1.  2. inf inf inf inf inf inf]\n",
      " [ 2.  1.  0.  1.  2. inf inf inf inf inf]\n",
      " [inf  2.  1.  0.  1.  2. inf inf inf inf]\n",
      " [inf inf  2.  1.  0.  1.  2. inf inf inf]\n",
      " [inf inf inf  2.  1.  0.  1.  2. inf inf]\n",
      " [inf inf inf inf  2.  1.  0.  1.  2. inf]\n",
      " [inf inf inf inf inf  2.  1.  0.  1.  2.]\n",
      " [inf inf inf inf inf inf  2.  1.  0.  1.]\n",
      " [inf inf inf inf inf inf inf  2.  1.  0.]], shape=(10, 10), dtype=float32)\n"
     ]
    },
    {
     "data": {
      "text/plain": [
       "array([[1., 1., 1., 0., 0., 0., 0., 0., 0., 0.],\n",
       "       [1., 1., 1., 1., 0., 0., 0., 0., 0., 0.],\n",
       "       [1., 1., 1., 1., 1., 0., 0., 0., 0., 0.],\n",
       "       [0., 1., 1., 1., 1., 1., 0., 0., 0., 0.],\n",
       "       [0., 0., 1., 1., 1., 1., 1., 0., 0., 0.],\n",
       "       [0., 0., 0., 1., 1., 1., 1., 1., 0., 0.],\n",
       "       [0., 0., 0., 0., 1., 1., 1., 1., 1., 0.],\n",
       "       [0., 0., 0., 0., 0., 1., 1., 1., 1., 1.],\n",
       "       [0., 0., 0., 0., 0., 0., 1., 1., 1., 1.],\n",
       "       [0., 0., 0., 0., 0., 0., 0., 1., 1., 1.]], dtype=float32)"
      ]
     },
     "execution_count": 6,
     "metadata": {},
     "output_type": "execute_result"
    }
   ],
   "source": [
    "def dist_W(dW, K=None):\n",
    "    # 疊代 K次，計算節點與節點之間最點距離\n",
    "    # dW 為 graph的距離矩陣\n",
    "    # dw的值 為 [0~inf)\n",
    "    # dw.shape = [num_N, num_N]\n",
    "    num_N = dW.shape[0]\n",
    "    max_K = int(np.ceil(np.log2(num_N)))\n",
    "    #print(f'max_K={max_K}, K={K}')\n",
    "    if K is not None and K < max_K:\n",
    "        max_K = K\n",
    "    for i in range(max_K):\n",
    "        dW_odd = dW\n",
    "        dW = tf.expand_dims(dW, 0)+tf.expand_dims(dW, 2) # [N,N,N]\n",
    "        dW = tf.reduce_min(dW, 1)\n",
    "        if tf.math.reduce_all(tf.equal(dW, dW_odd)):\n",
    "            #print('break')\n",
    "            break\n",
    "        #print(f'{i} {dW}')\n",
    "    return dW\n",
    "\n",
    "def dist_H_from_adj(adj, N=None, K=None):\n",
    "    W = np.array(adj, 'float32')\n",
    "    W[W == 0] = float('inf')\n",
    "    np.fill_diagonal(W, 0)\n",
    "    W = tf.convert_to_tensor(W)\n",
    "    # dW 計算節點與節點 的距離\n",
    "    dW = dist_W(W, K=K)\n",
    "    print(dW)\n",
    "    if N is None:\n",
    "        dW = tf.cast(tf.logical_not(tf.math.is_inf(dW)), 'float32')\n",
    "    else:\n",
    "        dW = tf.cast(tf.less_equal(dW, N), 'float32')\n",
    "    H = sp.coo_matrix(dW.numpy())\n",
    "    return H\n",
    "\n",
    "adj = get_adj([(0, 1), (1, 2), (2, 3), (3, 4), (4, 5), (5,6), (6, 7), (7, 8), (8, 9)], 10).toarray()\n",
    "dist_H_from_adj(adj, 3, 1).toarray()"
   ]
  },
  {
   "cell_type": "code",
   "execution_count": null,
   "metadata": {},
   "outputs": [],
   "source": []
  }
 ],
 "metadata": {
  "kernelspec": {
   "display_name": "Python 3",
   "language": "python",
   "name": "python3"
  },
  "language_info": {
   "codemirror_mode": {
    "name": "ipython",
    "version": 3
   },
   "file_extension": ".py",
   "mimetype": "text/x-python",
   "name": "python",
   "nbconvert_exporter": "python",
   "pygments_lexer": "ipython3",
   "version": "3.8.5"
  },
  "varInspector": {
   "cols": {
    "lenName": 16,
    "lenType": 16,
    "lenVar": 40
   },
   "kernels_config": {
    "python": {
     "delete_cmd_postfix": "",
     "delete_cmd_prefix": "del ",
     "library": "var_list.py",
     "varRefreshCmd": "print(var_dic_list())"
    },
    "r": {
     "delete_cmd_postfix": ") ",
     "delete_cmd_prefix": "rm(",
     "library": "var_list.r",
     "varRefreshCmd": "cat(var_dic_list()) "
    }
   },
   "types_to_exclude": [
    "module",
    "function",
    "builtin_function_or_method",
    "instance",
    "_Feature"
   ],
   "window_display": false
  }
 },
 "nbformat": 4,
 "nbformat_minor": 4
}
