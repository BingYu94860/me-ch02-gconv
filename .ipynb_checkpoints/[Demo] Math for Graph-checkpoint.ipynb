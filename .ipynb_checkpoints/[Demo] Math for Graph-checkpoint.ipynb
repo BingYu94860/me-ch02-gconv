{
 "cells": [
  {
   "cell_type": "code",
   "execution_count": 1,
   "metadata": {
    "ExecuteTime": {
     "end_time": "2021-05-05T05:52:47.965465Z",
     "start_time": "2021-05-05T05:52:45.558968Z"
    }
   },
   "outputs": [],
   "source": [
    "import numpy as np\n",
    "import scipy.sparse as sp\n",
    "import tensorflow as tf\n",
    "\n",
    "\n",
    "def get_edges(sparse_matrix, is_triu=True):\n",
    "    coo = sp.coo_matrix(sparse_matrix)\n",
    "    if is_triu:\n",
    "        coo = sp.triu(coo, 1)\n",
    "    return np.vstack((coo.row, coo.col)).transpose()  # .tolist()"
   ]
  },
  {
   "cell_type": "markdown",
   "metadata": {},
   "source": [
    "# 產生鄰接矩陣adj"
   ]
  },
  {
   "cell_type": "code",
   "execution_count": 6,
   "metadata": {
    "ExecuteTime": {
     "end_time": "2021-05-05T05:53:20.038140Z",
     "start_time": "2021-05-05T05:53:20.013207Z"
    }
   },
   "outputs": [
    {
     "name": "stdout",
     "output_type": "stream",
     "text": [
      "[[0. 1. 0. 0. 0.]\n",
      " [1. 0. 1. 0. 0.]\n",
      " [0. 1. 0. 1. 1.]\n",
      " [0. 0. 1. 0. 0.]\n",
      " [0. 0. 1. 0. 0.]]\n"
     ]
    }
   ],
   "source": [
    "def get_adj(edges: list, num_nodes: int):\n",
    "    e_rows, e_cols = np.array(edges, dtype=np.int).transpose()\n",
    "    values = np.ones(shape=(len(e_rows), ), dtype=np.float32)\n",
    "    adj = sp.coo_matrix((values, (e_rows, e_cols)),\n",
    "                        shape=[num_nodes, num_nodes])\n",
    "    # triu adj --> adj\n",
    "    adj.setdiag(0)\n",
    "    bigger = adj.T > adj\n",
    "    adj = adj - adj.multiply(bigger) + adj.T.multiply(bigger)\n",
    "    return adj\n",
    "\n",
    "edges = [(0, 1), (1, 2), (2, 3), (2, 4)]\n",
    "num_nodes = 5\n",
    "adj = get_adj(edges, num_nodes)\n",
    "print(adj.toarray())"
   ]
  },
  {
   "cell_type": "markdown",
   "metadata": {},
   "source": [
    "# 從 adj 計算出 D^(-0.5) @ (I+adj) @D^(-0.5)"
   ]
  },
  {
   "cell_type": "code",
   "execution_count": 5,
   "metadata": {
    "ExecuteTime": {
     "end_time": "2021-05-05T05:53:16.680810Z",
     "start_time": "2021-05-05T05:53:16.665850Z"
    },
    "hide_input": false
   },
   "outputs": [
    {
     "name": "stdout",
     "output_type": "stream",
     "text": [
      "[[0.5        0.40824829 0.         0.         0.        ]\n",
      " [0.40824829 0.33333333 0.28867513 0.         0.        ]\n",
      " [0.         0.28867513 0.25       0.35355339 0.35355339]\n",
      " [0.         0.         0.35355339 0.5        0.        ]\n",
      " [0.         0.         0.35355339 0.         0.5       ]]\n"
     ]
    }
   ],
   "source": [
    "def get_sp_DAD(adj, mode=1):\n",
    "    N = adj.shape[-1]\n",
    "    if mode == 1: # 拉普拉斯平滑化\n",
    "        A = sp.eye(N) + sp.coo_matrix(adj)\n",
    "    elif mode == 2: # 拉普拉斯銳利化\n",
    "        A = 2 * sp.eye(N) - sp.coo_matrix(adj)\n",
    "    else:\n",
    "        A = sp.coo_matrix(adj)\n",
    "    # 幾何平均\n",
    "    D = np.power(np.sum(np.abs(A), -1), -0.5)\n",
    "    DAD = A.multiply(D).T.multiply(D)\n",
    "    return DAD\n",
    "\n",
    "edges = [(0, 1), (1, 2), (2, 3), (2, 4)]\n",
    "num_nodes = 5\n",
    "adj = get_adj(edges, num_nodes)\n",
    "DAD = get_sp_DAD(adj)\n",
    "print(DAD.toarray())"
   ]
  },
  {
   "cell_type": "markdown",
   "metadata": {
    "ExecuteTime": {
     "end_time": "2021-05-05T05:46:14.192492Z",
     "start_time": "2021-05-05T05:46:14.180524Z"
    }
   },
   "source": [
    "# 從 adj 計算出 正規化拉普拉斯 L_norm"
   ]
  },
  {
   "cell_type": "code",
   "execution_count": 4,
   "metadata": {
    "ExecuteTime": {
     "end_time": "2021-05-05T05:52:59.157829Z",
     "start_time": "2021-05-05T05:52:59.134890Z"
    }
   },
   "outputs": [
    {
     "name": "stdout",
     "output_type": "stream",
     "text": [
      "[[ 1.         -0.70710677  0.          0.          0.        ]\n",
      " [-0.70710677  1.         -0.40824828  0.          0.        ]\n",
      " [ 0.         -0.40824828  1.         -0.57735026 -0.57735026]\n",
      " [ 0.          0.         -0.57735026  1.          0.        ]\n",
      " [ 0.          0.         -0.57735026  0.          1.        ]]\n"
     ]
    }
   ],
   "source": [
    "def get_sp_L_norm_from_adj(adj):\n",
    "    N = adj.shape[-1]\n",
    "    a = sp.coo_matrix(adj)\n",
    "    D = np.power(np.sum(np.abs(a), -1), -0.5)\n",
    "    DaD = a.multiply(D).T.multiply(D)\n",
    "    L_norm = sp.eye(N) - DaD\n",
    "    return L_norm\n",
    "\n",
    "edges = [(0, 1), (1, 2), (2, 3), (2, 4)]\n",
    "num_nodes = 5\n",
    "adj = get_adj(edges, num_nodes)\n",
    "L_norm = get_sp_L_norm_from_adj(adj)\n",
    "print(L_norm.toarray())"
   ]
  },
  {
   "cell_type": "markdown",
   "metadata": {},
   "source": [
    "# 將 L_norm 做chebyshev輸入的正規化"
   ]
  },
  {
   "cell_type": "code",
   "execution_count": 8,
   "metadata": {
    "ExecuteTime": {
     "end_time": "2021-05-05T08:09:04.452394Z",
     "start_time": "2021-05-05T08:09:04.436466Z"
    }
   },
   "outputs": [
    {
     "name": "stdout",
     "output_type": "stream",
     "text": [
      "[[ 0.         -0.70710677  0.          0.          0.        ]\n",
      " [-0.70710677  0.         -0.40824828  0.          0.        ]\n",
      " [ 0.         -0.40824828  0.         -0.57735026 -0.57735026]\n",
      " [ 0.          0.         -0.57735026  0.          0.        ]\n",
      " [ 0.          0.         -0.57735026  0.          0.        ]]\n"
     ]
    }
   ],
   "source": [
    "def get_sp_L_chebyshev_norm_from_adj(adj, lambda_max=2.0):\n",
    "    N = adj.shape[-1]\n",
    "    a = sp.coo_matrix(adj)\n",
    "    D = np.power(np.sum(np.abs(a), -1), -0.5)\n",
    "    DaD = a.multiply(D).T.multiply(D)\n",
    "    # chebyshev norm\n",
    "    if lambda_max == 2:\n",
    "        L_chebyshev_norm = -DaD\n",
    "    else:\n",
    "        L_norm = sp.eye(N) - DaD\n",
    "        L_chebyshev_norm = (2.0 / lambda_max) * L_norm - sp.eye(N)\n",
    "    return L_chebyshev_norm\n",
    "\n",
    "\n",
    "edges = [(0, 1), (1, 2), (2, 3), (2, 4)]\n",
    "num_nodes = 5\n",
    "adj = get_adj(edges, num_nodes)\n",
    "L_chebyshev_norm = get_sp_L_chebyshev_norm_from_adj(adj)\n",
    "print(L_chebyshev_norm.toarray())"
   ]
  },
  {
   "cell_type": "code",
   "execution_count": null,
   "metadata": {},
   "outputs": [],
   "source": []
  }
 ],
 "metadata": {
  "kernelspec": {
   "display_name": "Python 3",
   "language": "python",
   "name": "python3"
  },
  "language_info": {
   "codemirror_mode": {
    "name": "ipython",
    "version": 3
   },
   "file_extension": ".py",
   "mimetype": "text/x-python",
   "name": "python",
   "nbconvert_exporter": "python",
   "pygments_lexer": "ipython3",
   "version": "3.8.5"
  },
  "varInspector": {
   "cols": {
    "lenName": 16,
    "lenType": 16,
    "lenVar": 40
   },
   "kernels_config": {
    "python": {
     "delete_cmd_postfix": "",
     "delete_cmd_prefix": "del ",
     "library": "var_list.py",
     "varRefreshCmd": "print(var_dic_list())"
    },
    "r": {
     "delete_cmd_postfix": ") ",
     "delete_cmd_prefix": "rm(",
     "library": "var_list.r",
     "varRefreshCmd": "cat(var_dic_list()) "
    }
   },
   "types_to_exclude": [
    "module",
    "function",
    "builtin_function_or_method",
    "instance",
    "_Feature"
   ],
   "window_display": false
  }
 },
 "nbformat": 4,
 "nbformat_minor": 4
}
