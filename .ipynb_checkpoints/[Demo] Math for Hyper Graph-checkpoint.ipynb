{
 "cells": [
  {
   "cell_type": "code",
   "execution_count": 1,
   "metadata": {
    "ExecuteTime": {
     "end_time": "2021-05-05T08:13:38.044470Z",
     "start_time": "2021-05-05T08:13:35.416808Z"
    }
   },
   "outputs": [],
   "source": [
    "import numpy as np\n",
    "import scipy.sparse as sp\n",
    "import tensorflow as tf"
   ]
  },
  {
   "cell_type": "markdown",
   "metadata": {},
   "source": [
    "# 產生連接矩陣H"
   ]
  },
  {
   "cell_type": "code",
   "execution_count": 2,
   "metadata": {
    "ExecuteTime": {
     "end_time": "2021-05-05T05:49:14.047599Z",
     "start_time": "2021-05-05T05:49:14.035667Z"
    }
   },
   "outputs": [
    {
     "name": "stdout",
     "output_type": "stream",
     "text": [
      "[[1. 0. 0. 0.]\n",
      " [1. 1. 0. 0.]\n",
      " [1. 1. 1. 1.]\n",
      " [0. 0. 1. 0.]\n",
      " [1. 0. 0. 1.]]\n"
     ]
    }
   ],
   "source": [
    "def get_np_H(hyperedges:list, num_nodes:int):\n",
    "    arr = np.arange(num_nodes)\n",
    "    H_T = []\n",
    "    for edge in hyperedges:\n",
    "        arr1 = np.tile(arr, (len(edge), 1))\n",
    "        arr2 = np.tile(edge, (num_nodes, 1)).transpose()\n",
    "        v_edge = (arr1 == arr2).astype(np.int).sum(0)\n",
    "        H_T.append(v_edge)\n",
    "    H = np.array(H_T).transpose()\n",
    "    return H.astype(np.float32)\n",
    "\n",
    "hyperedges = [(0, 1, 2, 4), (1, 2), (2, 3), (2, 4)]\n",
    "num_nodes = 5\n",
    "H = get_np_H(hyperedges, num_nodes)\n",
    "print(H)"
   ]
  },
  {
   "cell_type": "code",
   "execution_count": 3,
   "metadata": {
    "ExecuteTime": {
     "end_time": "2021-05-05T08:13:56.118434Z",
     "start_time": "2021-05-05T08:13:56.102478Z"
    }
   },
   "outputs": [
    {
     "name": "stdout",
     "output_type": "stream",
     "text": [
      "[[1. 0. 0. 0.]\n",
      " [1. 1. 0. 0.]\n",
      " [0. 1. 1. 1.]\n",
      " [0. 0. 1. 0.]\n",
      " [0. 0. 0. 1.]]\n"
     ]
    }
   ],
   "source": [
    "def get_sp_H(hyperedges: list, num_nodes: int):\n",
    "    num_hyperedges = len(hyperedges)\n",
    "    e_rows = np.array([node for edge in hyperedges for node in edge])\n",
    "\n",
    "    num_nodes_list = [len(edge) for edge in hyperedges]\n",
    "    e_cols = np.repeat(range(len(num_nodes_list)), num_nodes_list)\n",
    "\n",
    "    values = np.ones(shape=(len(e_rows)))\n",
    "\n",
    "    H = sp.coo_matrix((values, (e_rows, e_cols)),\n",
    "                      shape=[num_nodes, num_hyperedges])\n",
    "    return H.astype(np.float32)\n",
    "\n",
    "\n",
    "hyperedges = [(0, 1), (1, 2), (2, 3), (2, 4)]\n",
    "num_nodes = 5\n",
    "H = get_sp_H(hyperedges, num_nodes)\n",
    "print(H.toarray())"
   ]
  },
  {
   "cell_type": "markdown",
   "metadata": {},
   "source": [
    "# 從 H 計算出 鄰接矩陣adj"
   ]
  },
  {
   "cell_type": "code",
   "execution_count": 4,
   "metadata": {
    "ExecuteTime": {
     "end_time": "2021-05-05T05:49:14.110432Z",
     "start_time": "2021-05-05T05:49:14.080514Z"
    }
   },
   "outputs": [
    {
     "name": "stdout",
     "output_type": "stream",
     "text": [
      "[[0. 1. 0. 0. 0.]\n",
      " [1. 0. 1. 0. 0.]\n",
      " [0. 1. 0. 1. 1.]\n",
      " [0. 0. 1. 0. 0.]\n",
      " [0. 0. 1. 0. 0.]]\n"
     ]
    }
   ],
   "source": [
    "def get_sp_adj_from_H(H, W=None):\n",
    "    num_nodes, num_hyperedges = H.shape\n",
    "    if W is None:\n",
    "        W = np.ones(shape=[num_hyperedges])\n",
    "    W = np.reshape(W, [1, num_hyperedges])\n",
    "    Dv = np.sum(H.multiply(W), -1)  # (num_nodes, 1)\n",
    "    Dv = sp.diags(np.squeeze(np.asarray(Dv)))\n",
    "    # H @ W @ H.T\n",
    "    HWH = H.multiply(W) @ H.T\n",
    "    adj = HWH - Dv\n",
    "    return adj\n",
    "\n",
    "hyperedges = [(0, 1), (1, 2), (2, 3), (2, 4)]\n",
    "num_nodes = 5\n",
    "H = get_sp_H(hyperedges, num_nodes)\n",
    "print(get_sp_adj_from_H(H).toarray())"
   ]
  },
  {
   "cell_type": "markdown",
   "metadata": {
    "hide_input": false
   },
   "source": [
    "# 從 H 計算出 Dv^(-0.5)@H @ W@De^(-1) @ H@Dv^(-0.5)"
   ]
  },
  {
   "cell_type": "code",
   "execution_count": 5,
   "metadata": {
    "ExecuteTime": {
     "end_time": "2021-05-05T05:49:14.141802Z",
     "start_time": "2021-05-05T05:49:14.112426Z"
    }
   },
   "outputs": [
    {
     "name": "stdout",
     "output_type": "stream",
     "text": [
      "[[0.5        0.35355339 0.         0.         0.        ]\n",
      " [0.35355339 0.5        0.20412415 0.         0.        ]\n",
      " [0.         0.20412415 0.5        0.28867513 0.28867513]\n",
      " [0.         0.         0.28867513 0.5        0.        ]\n",
      " [0.         0.         0.28867513 0.         0.5       ]]\n"
     ]
    }
   ],
   "source": [
    "def get_DvH_WDe_HDv(H, W=None):\n",
    "    num_nodes, num_hyperedges = H.shape\n",
    "    if W is None:\n",
    "        W = np.ones(shape=[num_hyperedges])\n",
    "    W = np.reshape(W, [1, num_hyperedges])\n",
    "    De = np.sum(H, -2)  # (1, num_hyperedges)\n",
    "    Dv = np.sum(H.multiply(W), -1)  # (num_nodes, 1)\n",
    "\n",
    "    # WDe = W @ De^(-1)\n",
    "    WDe = np.multiply(W, np.power(De, -1))\n",
    "    # DvH = Dv^(-0.5) @ H\n",
    "    DvH = H.multiply(np.power(Dv, -0.5))\n",
    "    # DvH @ WDe @ HDv\n",
    "    DvH_WDe_HDv = DvH.multiply(WDe) @ DvH.T\n",
    "    return DvH_WDe_HDv\n",
    "\n",
    "hyperedges = [(0, 1), (1, 2), (2, 3), (2, 4)]\n",
    "num_nodes = 5\n",
    "H = get_sp_H(hyperedges, num_nodes)\n",
    "DvH_WDe_HDv = get_DvH_WDe_HDv(H, W=np.ones(len(hyperedges)))\n",
    "print(DvH_WDe_HDv.toarray())"
   ]
  },
  {
   "cell_type": "markdown",
   "metadata": {
    "ExecuteTime": {
     "end_time": "2021-05-05T03:51:23.475448Z",
     "start_time": "2021-05-05T03:51:23.470461Z"
    }
   },
   "source": [
    "# 從 H 計算出 正規化拉普拉斯 L_norm"
   ]
  },
  {
   "cell_type": "code",
   "execution_count": 7,
   "metadata": {
    "ExecuteTime": {
     "end_time": "2021-05-05T05:51:21.382748Z",
     "start_time": "2021-05-05T05:51:21.364798Z"
    }
   },
   "outputs": [
    {
     "name": "stdout",
     "output_type": "stream",
     "text": [
      "[[ 0.5        -0.35355339  0.          0.          0.        ]\n",
      " [-0.35355339  0.5        -0.20412415  0.          0.        ]\n",
      " [ 0.         -0.20412415  0.5        -0.28867513 -0.28867513]\n",
      " [ 0.          0.         -0.28867513  0.5         0.        ]\n",
      " [ 0.          0.         -0.28867513  0.          0.5       ]]\n"
     ]
    }
   ],
   "source": [
    "def get_sp_L_norm_from_H(H, W=None):\n",
    "    num_nodes, num_hyperedges = H.shape\n",
    "    if W is None:\n",
    "        W = np.ones(shape=[num_hyperedges])\n",
    "    W = np.reshape(W, [1, num_hyperedges])\n",
    "    De = np.sum(H, -2)  # (1, num_hyperedges)\n",
    "    Dv = np.sum(H.multiply(W), -1)  # (num_nodes, 1)\n",
    "    # WDe = W @ De^(-1)\n",
    "    WDe = np.multiply(W, np.power(De, -1))\n",
    "    # DvH = Dv^(-0.5) @ H\n",
    "    DvH = H.multiply(np.power(Dv, -0.5))\n",
    "    # DvH @ WDe @ HDv\n",
    "    DvH_WDe_HDv = DvH.multiply(WDe) @ DvH.T\n",
    "    L_norm = sp.eye(num_nodes) - DvH_WDe_HDv\n",
    "    return L_norm\n",
    "\n",
    "hyperedges = [(0, 1), (1, 2), (2, 3), (2, 4)]\n",
    "num_nodes = 5\n",
    "H = get_sp_H(hyperedges, num_nodes)\n",
    "L_norm = get_sp_L_norm_from_H(H, W=np.ones(len(hyperedges)))\n",
    "print(L_norm.toarray())"
   ]
  },
  {
   "cell_type": "code",
   "execution_count": 5,
   "metadata": {
    "ExecuteTime": {
     "end_time": "2021-05-05T08:14:09.599407Z",
     "start_time": "2021-05-05T08:14:09.580446Z"
    }
   },
   "outputs": [
    {
     "name": "stdout",
     "output_type": "stream",
     "text": [
      "[[-0.5        -0.35355339  0.          0.          0.        ]\n",
      " [-0.35355339 -0.5        -0.20412415  0.          0.        ]\n",
      " [ 0.         -0.20412415 -0.5        -0.28867513 -0.28867513]\n",
      " [ 0.          0.         -0.28867513 -0.5         0.        ]\n",
      " [ 0.          0.         -0.28867513  0.         -0.5       ]]\n"
     ]
    }
   ],
   "source": [
    "def get_sp_L_chebyshev_norm_from_H(H, W=None, lambda_max=2.0):\n",
    "    num_nodes, num_hyperedges = H.shape\n",
    "    if W is None:\n",
    "        W = np.ones(shape=[num_hyperedges])\n",
    "    W = np.reshape(W, [1, num_hyperedges])\n",
    "    De = np.sum(H, -2)  # (1, num_hyperedges)\n",
    "    Dv = np.sum(H.multiply(W), -1)  # (num_nodes, 1)\n",
    "    # WDe = W @ De^(-1)\n",
    "    WDe = np.multiply(W, np.power(De, -1))\n",
    "    # DvH = Dv^(-0.5) @ H\n",
    "    DvH = H.multiply(np.power(Dv, -0.5))\n",
    "    # DvH @ WDe @ HDv\n",
    "    DvH_WDe_HDv = DvH.multiply(WDe) @ DvH.T\n",
    "    # chebyshev norm\n",
    "    if lambda_max == 2:\n",
    "        L_chebyshev_norm = -DvH_WDe_HDv\n",
    "    else:\n",
    "        L_norm = sp.eye(num_nodes) - DvH_WDe_HDv\n",
    "        L_chebyshev_norm = (2.0 / lambda_max) * L_norm - sp.eye(N)\n",
    "    return L_chebyshev_norm\n",
    "\n",
    "\n",
    "hyperedges = [(0, 1), (1, 2), (2, 3), (2, 4)]\n",
    "num_nodes = 5\n",
    "H = get_sp_H(hyperedges, num_nodes)\n",
    "L_norm = get_sp_L_chebyshev_norm_from_H(H, W=np.ones(len(hyperedges)))\n",
    "print(L_norm.toarray())"
   ]
  },
  {
   "cell_type": "code",
   "execution_count": null,
   "metadata": {},
   "outputs": [],
   "source": []
  }
 ],
 "metadata": {
  "kernelspec": {
   "display_name": "Python 3",
   "language": "python",
   "name": "python3"
  },
  "language_info": {
   "codemirror_mode": {
    "name": "ipython",
    "version": 3
   },
   "file_extension": ".py",
   "mimetype": "text/x-python",
   "name": "python",
   "nbconvert_exporter": "python",
   "pygments_lexer": "ipython3",
   "version": "3.8.5"
  },
  "varInspector": {
   "cols": {
    "lenName": 16,
    "lenType": 16,
    "lenVar": 40
   },
   "kernels_config": {
    "python": {
     "delete_cmd_postfix": "",
     "delete_cmd_prefix": "del ",
     "library": "var_list.py",
     "varRefreshCmd": "print(var_dic_list())"
    },
    "r": {
     "delete_cmd_postfix": ") ",
     "delete_cmd_prefix": "rm(",
     "library": "var_list.r",
     "varRefreshCmd": "cat(var_dic_list()) "
    }
   },
   "types_to_exclude": [
    "module",
    "function",
    "builtin_function_or_method",
    "instance",
    "_Feature"
   ],
   "window_display": false
  }
 },
 "nbformat": 4,
 "nbformat_minor": 4
}
