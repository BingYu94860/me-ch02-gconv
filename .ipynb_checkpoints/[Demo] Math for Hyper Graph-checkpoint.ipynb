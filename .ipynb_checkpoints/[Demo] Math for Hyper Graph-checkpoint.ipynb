{
 "cells": [
  {
   "cell_type": "markdown",
   "metadata": {},
   "source": [
    "# 產生連接矩陣H"
   ]
  },
  {
   "cell_type": "code",
   "execution_count": 1,
   "metadata": {
    "ExecuteTime": {
     "end_time": "2021-05-09T14:29:45.480628Z",
     "start_time": "2021-05-09T14:29:45.324928Z"
    }
   },
   "outputs": [
    {
     "name": "stdout",
     "output_type": "stream",
     "text": [
      "[[1. 0. 0. 0.]\n",
      " [1. 1. 0. 0.]\n",
      " [1. 1. 1. 1.]\n",
      " [0. 0. 1. 0.]\n",
      " [1. 0. 0. 1.]]\n"
     ]
    }
   ],
   "source": [
    "import numpy as np\n",
    "\n",
    "from math_hypergraph import get_np_H\n",
    "\n",
    "hyperedges = [(0, 1, 2, 4), (1, 2), (2, 3), (2, 4)]\n",
    "num_nodes = 5\n",
    "H = get_np_H(hyperedges, num_nodes)\n",
    "print(H)"
   ]
  },
  {
   "cell_type": "code",
   "execution_count": 2,
   "metadata": {
    "ExecuteTime": {
     "end_time": "2021-05-09T14:29:45.496722Z",
     "start_time": "2021-05-09T14:29:45.481626Z"
    }
   },
   "outputs": [
    {
     "name": "stdout",
     "output_type": "stream",
     "text": [
      "[[1. 0. 0. 0.]\n",
      " [1. 1. 0. 0.]\n",
      " [1. 1. 1. 1.]\n",
      " [0. 0. 1. 0.]\n",
      " [0. 0. 0. 1.]]\n"
     ]
    }
   ],
   "source": [
    "import numpy as np\n",
    "import scipy.sparse as sp\n",
    "\n",
    "from math_hypergraph import get_sp_H\n",
    "\n",
    "hyperedges = [(0, 1, 2), (1, 2), (2, 3), (2, 4)]\n",
    "num_nodes = 5\n",
    "\n",
    "H = get_sp_H(hyperedges, num_nodes)\n",
    "print(H.toarray())"
   ]
  },
  {
   "cell_type": "markdown",
   "metadata": {},
   "source": [
    "# 從 H 得到 超邊 list"
   ]
  },
  {
   "cell_type": "code",
   "execution_count": 3,
   "metadata": {
    "ExecuteTime": {
     "end_time": "2021-05-09T14:29:45.512827Z",
     "start_time": "2021-05-09T14:29:45.497682Z"
    }
   },
   "outputs": [
    {
     "name": "stdout",
     "output_type": "stream",
     "text": [
      "[[0, 1, 2], [1, 2], [2, 3], [2, 4]]\n"
     ]
    }
   ],
   "source": [
    "import numpy as np\n",
    "import scipy.sparse as sp\n",
    "\n",
    "from math_hypergraph import get_hyperedges\n",
    "\n",
    "hyperedges = get_hyperedges(H)\n",
    "print(hyperedges)"
   ]
  },
  {
   "cell_type": "markdown",
   "metadata": {},
   "source": [
    "# 從 H 計算出 鄰接矩陣adj"
   ]
  },
  {
   "cell_type": "code",
   "execution_count": 4,
   "metadata": {
    "ExecuteTime": {
     "end_time": "2021-05-09T14:29:45.544866Z",
     "start_time": "2021-05-09T14:29:45.516829Z"
    }
   },
   "outputs": [
    {
     "name": "stdout",
     "output_type": "stream",
     "text": [
      "[[0. 1. 0. 0. 0.]\n",
      " [1. 0. 1. 0. 0.]\n",
      " [0. 1. 0. 1. 1.]\n",
      " [0. 0. 1. 0. 0.]\n",
      " [0. 0. 1. 0. 0.]]\n"
     ]
    }
   ],
   "source": [
    "import numpy as np\n",
    "import scipy.sparse as sp\n",
    "\n",
    "from math_hypergraph import get_sp_adj_from_H\n",
    "\n",
    "hyperedges = [(0, 1), (1, 2), (2, 3), (2, 4)]\n",
    "num_nodes = 5\n",
    "\n",
    "H = get_sp_H(hyperedges, num_nodes)\n",
    "print(get_sp_adj_from_H(H).toarray())"
   ]
  },
  {
   "cell_type": "markdown",
   "metadata": {
    "hide_input": false
   },
   "source": [
    "# 從 H 計算出 Dv^(-0.5)@H @ W@De^(-1) @ H@Dv^(-0.5)"
   ]
  },
  {
   "cell_type": "code",
   "execution_count": 5,
   "metadata": {
    "ExecuteTime": {
     "end_time": "2021-05-09T14:29:45.559775Z",
     "start_time": "2021-05-09T14:29:45.545813Z"
    }
   },
   "outputs": [
    {
     "name": "stdout",
     "output_type": "stream",
     "text": [
      "[[0.5        0.35355338 0.         0.         0.        ]\n",
      " [0.35355338 0.5        0.20412415 0.         0.        ]\n",
      " [0.         0.20412415 0.5        0.28867513 0.28867513]\n",
      " [0.         0.         0.28867513 0.5        0.        ]\n",
      " [0.         0.         0.28867513 0.         0.5       ]]\n"
     ]
    }
   ],
   "source": [
    "import numpy as np\n",
    "import scipy.sparse as sp\n",
    "\n",
    "from math_hypergraph import get_sp_H\n",
    "from math_hypergraph import get_sp_DvH_WDe_HDv\n",
    "\n",
    "hyperedges = [(0, 1), (1, 2), (2, 3), (2, 4)]\n",
    "num_nodes = 5\n",
    "\n",
    "H = get_sp_H(hyperedges, num_nodes)\n",
    "DvH_WDe_HDv = get_sp_DvH_WDe_HDv(H, W=np.ones(len(hyperedges)))\n",
    "print(DvH_WDe_HDv.toarray())"
   ]
  },
  {
   "cell_type": "markdown",
   "metadata": {
    "ExecuteTime": {
     "end_time": "2021-05-05T03:51:23.475448Z",
     "start_time": "2021-05-05T03:51:23.470461Z"
    }
   },
   "source": [
    "# 從 H 計算出 正規化拉普拉斯 L_norm"
   ]
  },
  {
   "cell_type": "code",
   "execution_count": 6,
   "metadata": {
    "ExecuteTime": {
     "end_time": "2021-05-09T14:29:45.575737Z",
     "start_time": "2021-05-09T14:29:45.560773Z"
    }
   },
   "outputs": [
    {
     "name": "stdout",
     "output_type": "stream",
     "text": [
      "[[ 0.5        -0.35355338  0.          0.          0.        ]\n",
      " [-0.35355338  0.5        -0.20412415  0.          0.        ]\n",
      " [ 0.         -0.20412415  0.5        -0.28867513 -0.28867513]\n",
      " [ 0.          0.         -0.28867513  0.5         0.        ]\n",
      " [ 0.          0.         -0.28867513  0.          0.5       ]]\n"
     ]
    }
   ],
   "source": [
    "import numpy as np\n",
    "import scipy.sparse as sp\n",
    "\n",
    "from math_hypergraph import get_sp_H\n",
    "from math_hypergraph import get_sp_L_norm_from_H\n",
    "\n",
    "hyperedges = [(0, 1), (1, 2), (2, 3), (2, 4)]\n",
    "num_nodes = 5\n",
    "\n",
    "H = get_sp_H(hyperedges, num_nodes)\n",
    "L_norm = get_sp_L_norm_from_H(H, W=np.ones(len(hyperedges)))\n",
    "print(L_norm.toarray())"
   ]
  },
  {
   "cell_type": "markdown",
   "metadata": {},
   "source": [
    "# 將 L_norm 做chebyshev輸入的正規化"
   ]
  },
  {
   "cell_type": "code",
   "execution_count": 7,
   "metadata": {
    "ExecuteTime": {
     "end_time": "2021-05-09T14:29:45.591689Z",
     "start_time": "2021-05-09T14:29:45.577727Z"
    }
   },
   "outputs": [
    {
     "name": "stdout",
     "output_type": "stream",
     "text": [
      "[[-0.5        -0.35355338  0.          0.          0.        ]\n",
      " [-0.35355338 -0.5        -0.20412415  0.          0.        ]\n",
      " [ 0.         -0.20412415 -0.5        -0.28867513 -0.28867513]\n",
      " [ 0.          0.         -0.28867513 -0.5         0.        ]\n",
      " [ 0.          0.         -0.28867513  0.         -0.5       ]]\n"
     ]
    }
   ],
   "source": [
    "import numpy as np\n",
    "import scipy.sparse as sp\n",
    "\n",
    "from math_hypergraph import get_sp_H\n",
    "from math_hypergraph import get_sp_L_chebyshev_norm_from_H\n",
    "\n",
    "hyperedges = [(0, 1), (1, 2), (2, 3), (2, 4)]\n",
    "num_nodes = 5\n",
    "\n",
    "H = get_sp_H(hyperedges, num_nodes)\n",
    "L_norm = get_sp_L_chebyshev_norm_from_H(H,\n",
    "                                        W=np.ones(len(hyperedges)),\n",
    "                                        lambda_max=2.0)\n",
    "print(L_norm.toarray())"
   ]
  },
  {
   "cell_type": "code",
   "execution_count": null,
   "metadata": {},
   "outputs": [],
   "source": []
  }
 ],
 "metadata": {
  "kernelspec": {
   "display_name": "Python 3",
   "language": "python",
   "name": "python3"
  },
  "language_info": {
   "codemirror_mode": {
    "name": "ipython",
    "version": 3
   },
   "file_extension": ".py",
   "mimetype": "text/x-python",
   "name": "python",
   "nbconvert_exporter": "python",
   "pygments_lexer": "ipython3",
   "version": "3.8.5"
  },
  "varInspector": {
   "cols": {
    "lenName": 16,
    "lenType": 16,
    "lenVar": 40
   },
   "kernels_config": {
    "python": {
     "delete_cmd_postfix": "",
     "delete_cmd_prefix": "del ",
     "library": "var_list.py",
     "varRefreshCmd": "print(var_dic_list())"
    },
    "r": {
     "delete_cmd_postfix": ") ",
     "delete_cmd_prefix": "rm(",
     "library": "var_list.r",
     "varRefreshCmd": "cat(var_dic_list()) "
    }
   },
   "types_to_exclude": [
    "module",
    "function",
    "builtin_function_or_method",
    "instance",
    "_Feature"
   ],
   "window_display": false
  }
 },
 "nbformat": 4,
 "nbformat_minor": 4
}
