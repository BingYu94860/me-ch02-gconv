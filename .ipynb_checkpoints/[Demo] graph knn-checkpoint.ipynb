{
 "cells": [
  {
   "cell_type": "code",
   "execution_count": 1,
   "metadata": {
    "ExecuteTime": {
     "end_time": "2021-05-22T18:36:21.196655Z",
     "start_time": "2021-05-22T18:36:17.716249Z"
    }
   },
   "outputs": [],
   "source": [
    "import scipy.sparse as sp\n",
    "import tensorflow as tf\n",
    "import numpy as np\n",
    "import math"
   ]
  },
  {
   "cell_type": "code",
   "execution_count": 2,
   "metadata": {
    "ExecuteTime": {
     "end_time": "2021-05-22T18:36:22.289272Z",
     "start_time": "2021-05-22T18:36:21.200644Z"
    }
   },
   "outputs": [
    {
     "name": "stdout",
     "output_type": "stream",
     "text": [
      "max_loop=3, batch_size=3\n",
      "run 0/3\n",
      "[[ 0.  1.  2. inf inf inf inf inf inf inf]\n",
      " [ 1.  0.  1.  2. inf inf inf inf inf inf]\n",
      " [ 2.  1.  0.  1.  2. inf inf inf inf inf]\n",
      " [inf  2.  1.  0.  1. inf inf inf inf inf]\n",
      " [inf inf  2.  1.  0. inf inf inf inf inf]\n",
      " [inf inf inf inf inf  0.  1.  2. inf inf]\n",
      " [inf inf inf inf inf  1.  0.  1.  2. inf]\n",
      " [inf inf inf inf inf  2.  1.  0.  1.  2.]\n",
      " [inf inf inf inf inf inf  2.  1.  0.  1.]\n",
      " [inf inf inf inf inf inf inf  2.  1.  0.]]\n",
      "run 1/3\n",
      "[[ 0.  1.  2.  3.  4. inf inf inf inf inf]\n",
      " [ 1.  0.  1.  2.  3. inf inf inf inf inf]\n",
      " [ 2.  1.  0.  1.  2. inf inf inf inf inf]\n",
      " [ 3.  2.  1.  0.  1. inf inf inf inf inf]\n",
      " [ 4.  3.  2.  1.  0. inf inf inf inf inf]\n",
      " [inf inf inf inf inf  0.  1.  2.  3.  4.]\n",
      " [inf inf inf inf inf  1.  0.  1.  2.  3.]\n",
      " [inf inf inf inf inf  2.  1.  0.  1.  2.]\n",
      " [inf inf inf inf inf  3.  2.  1.  0.  1.]\n",
      " [inf inf inf inf inf  4.  3.  2.  1.  0.]]\n"
     ]
    }
   ],
   "source": [
    "from math_graph_knn import get_adj, get_dW\n",
    "\n",
    "num_nodes = 10\n",
    "\n",
    "edges = [(0, 1), (1, 2), (2, 3), (3, 4), (5, 6), (6, 7), (7, 8), (8, 9)]\n",
    "\n",
    "adj = get_adj(edges, num_nodes)#.toarray()\n",
    "\n",
    "dW = get_dW(adj, num_loop=3, batch_size=3, verbose=True)"
   ]
  },
  {
   "cell_type": "code",
   "execution_count": 3,
   "metadata": {
    "ExecuteTime": {
     "end_time": "2021-05-22T18:36:22.335148Z",
     "start_time": "2021-05-22T18:36:22.292263Z"
    }
   },
   "outputs": [
    {
     "name": "stdout",
     "output_type": "stream",
     "text": [
      "max_loop=1, batch_size=3\n",
      "run 0/1\n",
      "[[ 0.  1.  2. inf inf inf inf inf inf inf]\n",
      " [ 1.  0.  1.  2. inf inf inf inf inf inf]\n",
      " [ 2.  1.  0.  1.  2. inf inf inf inf inf]\n",
      " [inf  2.  1.  0.  1. inf inf inf inf inf]\n",
      " [inf inf  2.  1.  0. inf inf inf inf inf]\n",
      " [inf inf inf inf inf  0.  1.  2. inf inf]\n",
      " [inf inf inf inf inf  1.  0.  1.  2. inf]\n",
      " [inf inf inf inf inf  2.  1.  0.  1.  2.]\n",
      " [inf inf inf inf inf inf  2.  1.  0.  1.]\n",
      " [inf inf inf inf inf inf inf  2.  1.  0.]]\n",
      "dW = \n",
      "[[ 0.  1.  2. inf inf inf inf inf inf inf]\n",
      " [ 1.  0.  1.  2. inf inf inf inf inf inf]\n",
      " [ 2.  1.  0.  1.  2. inf inf inf inf inf]\n",
      " [inf  2.  1.  0.  1. inf inf inf inf inf]\n",
      " [inf inf  2.  1.  0. inf inf inf inf inf]\n",
      " [inf inf inf inf inf  0.  1.  2. inf inf]\n",
      " [inf inf inf inf inf  1.  0.  1.  2. inf]\n",
      " [inf inf inf inf inf  2.  1.  0.  1.  2.]\n",
      " [inf inf inf inf inf inf  2.  1.  0.  1.]\n",
      " [inf inf inf inf inf inf inf  2.  1.  0.]]\n",
      "KNN=3 => [my-node, k-node]\n",
      "[[ 0.  1.  2. inf inf inf inf inf inf inf]\n",
      " [ 1.  0.  1. inf inf inf inf inf inf inf]\n",
      " [inf  1.  0.  1. inf inf inf inf inf inf]\n",
      " [inf inf  1.  0.  1. inf inf inf inf inf]\n",
      " [inf inf  2.  1.  0. inf inf inf inf inf]\n",
      " [inf inf inf inf inf  0.  1.  2. inf inf]\n",
      " [inf inf inf inf inf  1.  0.  1. inf inf]\n",
      " [inf inf inf inf inf inf  1.  0.  1. inf]\n",
      " [inf inf inf inf inf inf inf  1.  0.  1.]\n",
      " [inf inf inf inf inf inf inf  2.  1.  0.]]\n",
      "H=\n",
      "[[1. 1. 0. 0. 0. 0. 0. 0. 0. 0.]\n",
      " [1. 1. 1. 0. 0. 0. 0. 0. 0. 0.]\n",
      " [1. 1. 1. 1. 1. 0. 0. 0. 0. 0.]\n",
      " [0. 0. 1. 1. 1. 0. 0. 0. 0. 0.]\n",
      " [0. 0. 0. 1. 1. 0. 0. 0. 0. 0.]\n",
      " [0. 0. 0. 0. 0. 1. 1. 0. 0. 0.]\n",
      " [0. 0. 0. 0. 0. 1. 1. 1. 0. 0.]\n",
      " [0. 0. 0. 0. 0. 1. 1. 1. 1. 1.]\n",
      " [0. 0. 0. 0. 0. 0. 0. 1. 1. 1.]\n",
      " [0. 0. 0. 0. 0. 0. 0. 0. 1. 1.]]\n"
     ]
    }
   ],
   "source": [
    "from math_graph_knn import get_adj, get_H_run_KNeighbors\n",
    "\n",
    "num_nodes = 10\n",
    "\n",
    "edges = [(0, 1), (1, 2), (2, 3), (3, 4), (5, 6), (6, 7), (7, 8), (8, 9)]\n",
    "\n",
    "adj = get_adj(edges, num_nodes).toarray()\n",
    "\n",
    "H = get_H_run_KNeighbors(adj, 3, num_loop=1, batch_size=3, verbose=True)"
   ]
  },
  {
   "cell_type": "code",
   "execution_count": 4,
   "metadata": {
    "ExecuteTime": {
     "end_time": "2021-05-22T18:36:22.366066Z",
     "start_time": "2021-05-22T18:36:22.339138Z"
    }
   },
   "outputs": [
    {
     "name": "stdout",
     "output_type": "stream",
     "text": [
      "max_loop=1, batch_size=3\n",
      "run 0/1\n",
      "[[ 0.  1.  2. inf inf inf inf inf inf inf]\n",
      " [ 1.  0.  1.  2. inf inf inf inf inf inf]\n",
      " [ 2.  1.  0.  1.  2. inf inf inf inf inf]\n",
      " [inf  2.  1.  0.  1. inf inf inf inf inf]\n",
      " [inf inf  2.  1.  0. inf inf inf inf inf]\n",
      " [inf inf inf inf inf  0.  1.  2. inf inf]\n",
      " [inf inf inf inf inf  1.  0.  1.  2. inf]\n",
      " [inf inf inf inf inf  2.  1.  0.  1.  2.]\n",
      " [inf inf inf inf inf inf  2.  1.  0.  1.]\n",
      " [inf inf inf inf inf inf inf  2.  1.  0.]]\n",
      "dW = \n",
      "[[ 0.  1.  2. inf inf inf inf inf inf inf]\n",
      " [ 1.  0.  1.  2. inf inf inf inf inf inf]\n",
      " [ 2.  1.  0.  1.  2. inf inf inf inf inf]\n",
      " [inf  2.  1.  0.  1. inf inf inf inf inf]\n",
      " [inf inf  2.  1.  0. inf inf inf inf inf]\n",
      " [inf inf inf inf inf  0.  1.  2. inf inf]\n",
      " [inf inf inf inf inf  1.  0.  1.  2. inf]\n",
      " [inf inf inf inf inf  2.  1.  0.  1.  2.]\n",
      " [inf inf inf inf inf inf  2.  1.  0.  1.]\n",
      " [inf inf inf inf inf inf inf  2.  1.  0.]]\n",
      "H=\n",
      "[[1. 1. 0. 0. 0. 0. 0. 0. 0. 0.]\n",
      " [1. 1. 1. 0. 0. 0. 0. 0. 0. 0.]\n",
      " [0. 1. 1. 1. 0. 0. 0. 0. 0. 0.]\n",
      " [0. 0. 1. 1. 1. 0. 0. 0. 0. 0.]\n",
      " [0. 0. 0. 1. 1. 0. 0. 0. 0. 0.]\n",
      " [0. 0. 0. 0. 0. 1. 1. 0. 0. 0.]\n",
      " [0. 0. 0. 0. 0. 1. 1. 1. 0. 0.]\n",
      " [0. 0. 0. 0. 0. 0. 1. 1. 1. 0.]\n",
      " [0. 0. 0. 0. 0. 0. 0. 1. 1. 1.]\n",
      " [0. 0. 0. 0. 0. 0. 0. 0. 1. 1.]]\n"
     ]
    }
   ],
   "source": [
    "from math_graph_knn import get_adj, get_H_run_RadiusNeighbors\n",
    "\n",
    "num_nodes = 10\n",
    "\n",
    "edges = [(0, 1), (1, 2), (2, 3), (3, 4), (5, 6), (6, 7), (7, 8), (8, 9)]\n",
    "\n",
    "adj = get_adj(edges, num_nodes).toarray()\n",
    "\n",
    "H = get_H_run_RadiusNeighbors(adj, 1, num_loop=1, batch_size=3, verbose=True)"
   ]
  },
  {
   "cell_type": "code",
   "execution_count": null,
   "metadata": {},
   "outputs": [],
   "source": []
  }
 ],
 "metadata": {
  "kernelspec": {
   "display_name": "Python 3",
   "language": "python",
   "name": "python3"
  },
  "language_info": {
   "codemirror_mode": {
    "name": "ipython",
    "version": 3
   },
   "file_extension": ".py",
   "mimetype": "text/x-python",
   "name": "python",
   "nbconvert_exporter": "python",
   "pygments_lexer": "ipython3",
   "version": "3.8.5"
  },
  "varInspector": {
   "cols": {
    "lenName": 16,
    "lenType": 16,
    "lenVar": 40
   },
   "kernels_config": {
    "python": {
     "delete_cmd_postfix": "",
     "delete_cmd_prefix": "del ",
     "library": "var_list.py",
     "varRefreshCmd": "print(var_dic_list())"
    },
    "r": {
     "delete_cmd_postfix": ") ",
     "delete_cmd_prefix": "rm(",
     "library": "var_list.r",
     "varRefreshCmd": "cat(var_dic_list()) "
    }
   },
   "types_to_exclude": [
    "module",
    "function",
    "builtin_function_or_method",
    "instance",
    "_Feature"
   ],
   "window_display": false
  }
 },
 "nbformat": 4,
 "nbformat_minor": 4
}
