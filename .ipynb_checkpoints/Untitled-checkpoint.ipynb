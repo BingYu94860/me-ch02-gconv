{
 "cells": [
  {
   "cell_type": "code",
   "execution_count": null,
   "metadata": {
    "ExecuteTime": {
     "end_time": "2021-07-10T19:08:45.927953Z",
     "start_time": "2021-07-10T19:08:45.919962Z"
    },
    "deletable": false,
    "editable": false,
    "run_control": {
     "frozen": true
    }
   },
   "outputs": [],
   "source": [
    "import tensorflow as tf\n",
    "import numpy as np\n",
    "import scipy.sparse as sp\n",
    "import math\n",
    "\n",
    "\n",
    "def get_adj(edges: list, num_nodes: int):\n",
    "    e_rows, e_cols = np.array(edges, dtype=np.int).transpose()\n",
    "    values = np.ones(shape=(len(e_rows), ), dtype=np.float32)\n",
    "    adj = sp.coo_matrix((values, (e_rows, e_cols)),\n",
    "                        shape=[num_nodes, num_nodes])\n",
    "    # triu adj --> adj\n",
    "    adj.setdiag(0)\n",
    "    bigger = adj.T > adj\n",
    "    adj = adj - adj.multiply(bigger) + adj.T.multiply(bigger)\n",
    "    return adj"
   ]
  },
  {
   "cell_type": "code",
   "execution_count": null,
   "metadata": {
    "ExecuteTime": {
     "end_time": "2021-07-10T19:03:18.531273Z",
     "start_time": "2021-07-10T19:03:18.507305Z"
    },
    "deletable": false,
    "editable": false,
    "hide_input": false,
    "run_control": {
     "frozen": true
    }
   },
   "outputs": [],
   "source": [
    "def np_adj_to_dW(adj):\n",
    "    dW = sp.coo_matrix(adj)\n",
    "    dW = dW.toarray().astype('float32')\n",
    "    dW[dW == 0] = float('inf')\n",
    "    np.fill_diagonal(dW, 0)\n",
    "    return dW\n",
    "\n",
    "\n",
    "def tf_dist_W(dW, num_loop=None, batch_size=None, verbose=False):\n",
    "    num_nodes = dW.shape[0]\n",
    "    # 計算估計 max loop\n",
    "    max_loop = int(np.ceil(np.log2(num_nodes)))\n",
    "    if num_loop is not None:\n",
    "        max_loop = min(num_loop, max_loop)\n",
    "    # 設定 預設 batch_size\n",
    "    if batch_size is None:\n",
    "        if num_nodes >= 1000:\n",
    "            batch_size = 10\n",
    "        else:\n",
    "            batch_size = num_nodes\n",
    "    if verbose:\n",
    "        print(f'max_loop={max_loop}, batch_size={batch_size}')\n",
    "    # 迭代 max_loop 次\n",
    "    for i_loop in range(max_loop):\n",
    "        dW_odd = dW\n",
    "        A = tf.expand_dims(dW, 2)  # [N,N,1]\n",
    "        B = tf.expand_dims(dW, 0)  # [1,N,N]\n",
    "        # 以 batch 方式計算 dW = tf.reduce_min(A+B, 1)\n",
    "        ys = []\n",
    "        for ia in range(0, num_nodes, batch_size):\n",
    "            # 依序抽取 batch_size 個\n",
    "            ib = ia + batch_size\n",
    "            if ib >= num_nodes:\n",
    "                ib = num_nodes\n",
    "            iw = A[ia:ib]  # [batch_size,N,1]\n",
    "            # 計算 batch_size 個\n",
    "            ys.append(tf.reduce_min(iw + B, 1))\n",
    "        dW = tf.concat(ys, 0)\n",
    "        # 檢查如果 dW 和 dW_odd 則 提前停止\n",
    "        if tf.math.reduce_all(tf.equal(dW, dW_odd)):\n",
    "            break\n",
    "        if verbose:\n",
    "            print(f'run {i_loop}/{max_loop}')\n",
    "            print(f'{dW}')\n",
    "    return dW\n",
    "\n",
    "\n",
    "#==========#==========#==========#==========#==========#==========#==========#\n",
    "\n",
    "\n",
    "def tf_KNN_for_dW(dW, K=3):\n",
    "    num_nodes = dW.shape[0]\n",
    "    rr = tf.tile(tf.expand_dims(tf.range(num_nodes), -1), [1, K])\n",
    "    cc = tf.argsort(dW, -1, direction='ASCENDING')[:, :K]\n",
    "    indices = tf.stack([tf.reshape(rr, -1), tf.reshape(cc, -1)], -1)\n",
    "    indices = tf.cast(indices, 'int64')\n",
    "    values = tf.gather_nd(dW, indices)\n",
    "    y = tf.SparseTensor(indices, values, dense_shape=[num_nodes, num_nodes])\n",
    "    y = tf.sparse.to_dense(tf.sparse.reorder(y), default_value=math.inf)\n",
    "    return y  # [my-node, k-node]\n",
    "\n",
    "\n",
    "def get_H_run_KNeighbors(adj,\n",
    "                         n_neighbors=5,\n",
    "                         num_loop=None,\n",
    "                         batch_size=1,\n",
    "                         verbose=False):\n",
    "    dW = np_adj_to_dW(adj)  # [N,N]\n",
    "    dW = tf.convert_to_tensor(dW)\n",
    "    dW = tf_dist_W(dW, num_loop, batch_size, verbose=verbose)\n",
    "    if verbose:\n",
    "        print(f'dW = \\n{dW}')\n",
    "    dW = tf_KNN_for_dW(dW, K=n_neighbors)\n",
    "    if verbose:\n",
    "        print(f'KNN={n_neighbors} => [my-node, k-node]\\n{dW}')\n",
    "    H = tf.linalg.matrix_transpose(dW)\n",
    "    H = tf.cast(tf.logical_not(tf.math.is_inf(H)), 'float32')\n",
    "    H = sp.coo_matrix(H.numpy())\n",
    "    if verbose:\n",
    "        print(f'H=\\n{H.toarray()}')\n",
    "    return H"
   ]
  },
  {
   "cell_type": "code",
   "execution_count": null,
   "metadata": {
    "ExecuteTime": {
     "end_time": "2021-07-10T19:03:19.437809Z",
     "start_time": "2021-07-10T19:03:19.032480Z"
    },
    "deletable": false,
    "editable": false,
    "hide_input": false,
    "run_control": {
     "frozen": true
    }
   },
   "outputs": [],
   "source": [
    "H = get_H_run_KNeighbors(adj, n_neighbors=5, verbose=True)"
   ]
  },
  {
   "cell_type": "code",
   "execution_count": 1,
   "metadata": {
    "ExecuteTime": {
     "end_time": "2021-07-11T08:44:45.227116Z",
     "start_time": "2021-07-11T08:44:40.671252Z"
    }
   },
   "outputs": [
    {
     "name": "stdout",
     "output_type": "stream",
     "text": [
      "tf.Tensor(\n",
      "[[ 0.  1. inf inf inf inf inf inf inf inf]\n",
      " [ 1.  0.  1. inf inf inf inf inf inf inf]\n",
      " [inf  1.  0.  5. inf inf inf inf inf inf]\n",
      " [inf inf  5.  0.  1. inf inf inf inf inf]\n",
      " [inf inf inf  1.  0.  1. inf inf inf inf]\n",
      " [inf inf inf inf  1.  0. inf inf inf inf]\n",
      " [inf inf inf inf inf inf  0. inf inf inf]\n",
      " [inf inf inf inf inf inf inf  0.  1. inf]\n",
      " [inf inf inf inf inf inf inf  1.  0.  1.]\n",
      " [inf inf inf inf inf inf inf inf  1.  0.]], shape=(10, 10), dtype=float32)\n"
     ]
    }
   ],
   "source": [
    "import scipy.sparse as sp\n",
    "import tensorflow as tf\n",
    "import numpy as np\n",
    "import math\n",
    "\n",
    "\n",
    "def xyz_to_adj(xyz: dict):\n",
    "    xy = np.array(list(xyz.keys()))  # (2, num_edges)\n",
    "    row = xy[:, 0]\n",
    "    col = xy[:, 1]\n",
    "    data = np.array(list(xyz.values()))\n",
    "    N = xy.max() + 1\n",
    "\n",
    "    adj = sp.coo_matrix((data, (row, col)), shape=(N, N))\n",
    "    adj.setdiag(0)\n",
    "    bigger = adj.T > adj\n",
    "    adj = adj - adj.multiply(bigger) + adj.T.multiply(bigger)\n",
    "    return adj\n",
    "\n",
    "\n",
    "def to_sparse_tensor(X):\n",
    "    coo = sp.coo_matrix(X)\n",
    "    indices = np.vstack((coo.row, coo.col)).transpose()\n",
    "    Y = tf.SparseTensor(indices, np.float32(coo.data), coo.shape)\n",
    "    Y = tf.sparse.reorder(Y)\n",
    "    return Y\n",
    "\n",
    "\n",
    "xyz = {\n",
    "    (0, 1): 1,\n",
    "    (1, 2): 1,\n",
    "    (2, 3): 5,\n",
    "    (3, 4): 1,\n",
    "    (4, 5): 1,\n",
    "    #(6, 7): 1,\n",
    "    (7, 8): 1,\n",
    "    (8, 9): 1\n",
    "}\n",
    "\n",
    "adj = xyz_to_adj(xyz)\n",
    "W = to_sparse_tensor(adj)  # N, N\n",
    "W = tf.sparse.add(W, tf.sparse.eye(W.shape[0], W.shape[1]) * 0)\n",
    "print(tf.sparse.to_dense(W, default_value=math.inf))"
   ]
  },
  {
   "cell_type": "code",
   "execution_count": null,
   "metadata": {
    "ExecuteTime": {
     "end_time": "2021-07-11T06:55:04.770938Z",
     "start_time": "2021-07-11T06:55:04.679183Z"
    },
    "deletable": false,
    "editable": false,
    "run_control": {
     "frozen": true
    }
   },
   "outputs": [],
   "source": [
    "num_split = 3\n",
    "As = tf.sparse.split(W, num_split, 0)  # r, N\n",
    "Bs = tf.sparse.split(W, num_split, 1)  # N, c\n",
    "\n",
    "Ws = []\n",
    "for iA in As:  # r, N\n",
    "    iWs = []\n",
    "    for jB in Bs:  # N, c\n",
    "        A = tf.sparse.expand_dims(iA, 2)  # r, N, 1\n",
    "        B = tf.sparse.expand_dims(jB, 0)  # 1, N, c\n",
    "        A = tf.sparse.to_dense(A, default_value=math.inf)\n",
    "        B = tf.sparse.to_dense(B, default_value=math.inf)\n",
    "        AB = tf.reduce_min(A + B, 1)\n",
    "        iWs.append(AB)\n",
    "    iWs = tf.concat(iWs, 1)\n",
    "    Ws.append(iWs)\n",
    "Ws = tf.concat(Ws, 0)\n",
    "\n",
    "print(Ws)"
   ]
  },
  {
   "cell_type": "code",
   "execution_count": null,
   "metadata": {
    "ExecuteTime": {
     "end_time": "2021-07-11T03:55:05.369672Z",
     "start_time": "2021-07-11T03:55:04.828122Z"
    },
    "deletable": false,
    "editable": false,
    "run_control": {
     "frozen": true
    }
   },
   "outputs": [],
   "source": [
    "Ws = []\n",
    "for iA in tf.sparse.split(W, W.shape[0], 0):  # r, N\n",
    "    iWs = []\n",
    "    for jB in tf.sparse.split(W, W.shape[1], 1):  # N, c\n",
    "        A = tf.sparse.expand_dims(iA, 2)  # r, N, 1\n",
    "        B = tf.sparse.expand_dims(jB, 0)  # 1, N, c\n",
    "        A = tf.sparse.to_dense(A, default_value=math.inf)\n",
    "        B = tf.sparse.to_dense(B, default_value=math.inf)\n",
    "        AB = tf.reduce_min(A + B, 1)\n",
    "        iWs.append(AB)\n",
    "    iWs = tf.concat(iWs, 1)\n",
    "    print(iWs)\n",
    "    Ws.append(iWs)\n",
    "Ws = tf.concat(Ws, 0)\n",
    "\n",
    "print(Ws)"
   ]
  },
  {
   "cell_type": "code",
   "execution_count": null,
   "metadata": {
    "ExecuteTime": {
     "end_time": "2021-07-11T07:47:15.746062Z",
     "start_time": "2021-07-11T07:47:15.713150Z"
    },
    "deletable": false,
    "editable": false,
    "run_control": {
     "frozen": true
    }
   },
   "outputs": [],
   "source": [
    "rw = tf.cast(W.indices[:, 0], 'int32')\n",
    "cw = tf.cast(W.indices[:, 1], 'int32')\n",
    "vw = W.values\n",
    "\n",
    "crs = tf.dynamic_partition(cw, rw, W.shape[0]) # split rw\n",
    "vrs = tf.dynamic_partition(vw, rw, W.shape[0]) # split rw\n",
    "\n",
    "rcs = tf.dynamic_partition(rw, cw, W.shape[1]) # split cw\n",
    "cvs = tf.dynamic_partition(vw, cw, W.shape[1]) # split cw"
   ]
  },
  {
   "cell_type": "code",
   "execution_count": null,
   "metadata": {
    "ExecuteTime": {
     "end_time": "2021-07-11T06:36:38.719103Z",
     "start_time": "2021-07-11T06:36:38.688187Z"
    },
    "deletable": false,
    "editable": false,
    "run_control": {
     "frozen": true
    }
   },
   "outputs": [],
   "source": [
    "params = tf.reshape(tf.range(6*6), [6,6])\n",
    "indices = [2, 0, 2, 5]\n",
    "tf.gather(params, indices).numpy()"
   ]
  },
  {
   "cell_type": "code",
   "execution_count": 8,
   "metadata": {
    "ExecuteTime": {
     "end_time": "2021-07-11T08:46:48.896709Z",
     "start_time": "2021-07-11T08:46:48.759094Z"
    }
   },
   "outputs": [
    {
     "name": "stdout",
     "output_type": "stream",
     "text": [
      "tf.Tensor(\n",
      "[[ 0.  1.  2. inf inf inf inf inf inf inf]\n",
      " [ 1.  0.  1.  6. inf inf inf inf inf inf]\n",
      " [ 2.  1.  0.  5.  6. inf inf inf inf inf]\n",
      " [inf  6.  5.  0.  1.  2. inf inf inf inf]\n",
      " [inf inf  6.  1.  0.  1. inf inf inf inf]\n",
      " [inf inf inf  2.  1.  0. inf inf inf inf]\n",
      " [inf inf inf inf inf inf  0. inf inf inf]\n",
      " [inf inf inf inf inf inf inf  0.  1.  2.]\n",
      " [inf inf inf inf inf inf inf  1.  0.  1.]\n",
      " [inf inf inf inf inf inf inf  2.  1.  0.]], shape=(10, 10), dtype=float32)\n"
     ]
    }
   ],
   "source": [
    "def tf_2d_loop_indices(shape):\n",
    "    loop_indices = tf.stack(tf.meshgrid(range(shape[0]), range(shape[1])), -1)\n",
    "    loop_indices = tf.reshape(loop_indices, [-1, 2])\n",
    "    return loop_indices\n",
    "\n",
    "\n",
    "def tf_batch_split(values, batch_size: int):\n",
    "    N = len(values)\n",
    "    size_splits = [batch_size] * (N // batch_size) + [N % batch_size]\n",
    "    return tf.split(values, size_splits)\n",
    "\n",
    "\n",
    "def tf_asd(W, batch_size:int):\n",
    "    As = tf.sparse.split(W, W.shape[0], 0)  # r, N\n",
    "    Bs = tf.sparse.split(W, W.shape[1], 1)  # N, c\n",
    "\n",
    "    rcs = []\n",
    "    vs = []\n",
    "    loop_indices = tf_2d_loop_indices(W.shape)\n",
    "    batch_indices = tf_batch_split(loop_indices, batch_size)\n",
    "    for rc_indices in batch_indices:\n",
    "        # get index\n",
    "        r_indices = rc_indices[:, 0]\n",
    "        c_indices = rc_indices[:, 1]\n",
    "        # 取出對應的內容\n",
    "        iA = tf.sparse.concat(0, [As[i] for i in r_indices])  # batch_size, N\n",
    "        iB = tf.sparse.concat(1, [Bs[i] for i in c_indices])  # N, batch_size\n",
    "        iB = tf.sparse.transpose(iB)  # batch_size, N\n",
    "        # 最短距離\n",
    "        iA = tf.sparse.to_dense(iA, default_value=math.inf)  # batch_size, N\n",
    "        iB = tf.sparse.to_dense(iB, default_value=math.inf)  # batch_size, N\n",
    "        i_values = tf.reduce_min(iA + iB, -1)  # batch_size\n",
    "        # 遮罩\n",
    "        mask = tf.not_equal(i_values, math.inf)\n",
    "        ircs = tf.boolean_mask(rc_indices, mask)\n",
    "        ivs = tf.boolean_mask(i_values, mask)\n",
    "        rcs.append(ircs)\n",
    "        vs.append(ivs)\n",
    "    rcs = tf.concat(rcs, 0)\n",
    "    vs = tf.concat(vs, 0)\n",
    "\n",
    "    yW = tf.sparse.SparseTensor(tf.cast(rcs, 'int64'), vs, W.shape)\n",
    "    yW = tf.sparse.reorder(yW)\n",
    "    return yW\n",
    "\n",
    "yW = tf_asd(W, 11)\n",
    "print(tf.sparse.to_dense(yW, default_value=math.inf))"
   ]
  },
  {
   "cell_type": "code",
   "execution_count": null,
   "metadata": {
    "ExecuteTime": {
     "end_time": "2021-07-11T08:18:44.306673Z",
     "start_time": "2021-07-11T08:18:44.284707Z"
    }
   },
   "outputs": [],
   "source": []
  },
  {
   "cell_type": "code",
   "execution_count": null,
   "metadata": {},
   "outputs": [],
   "source": []
  }
 ],
 "metadata": {
  "kernelspec": {
   "display_name": "Python 3",
   "language": "python",
   "name": "python3"
  },
  "language_info": {
   "codemirror_mode": {
    "name": "ipython",
    "version": 3
   },
   "file_extension": ".py",
   "mimetype": "text/x-python",
   "name": "python",
   "nbconvert_exporter": "python",
   "pygments_lexer": "ipython3",
   "version": "3.8.5"
  },
  "varInspector": {
   "cols": {
    "lenName": 16,
    "lenType": 16,
    "lenVar": 40
   },
   "kernels_config": {
    "python": {
     "delete_cmd_postfix": "",
     "delete_cmd_prefix": "del ",
     "library": "var_list.py",
     "varRefreshCmd": "print(var_dic_list())"
    },
    "r": {
     "delete_cmd_postfix": ") ",
     "delete_cmd_prefix": "rm(",
     "library": "var_list.r",
     "varRefreshCmd": "cat(var_dic_list()) "
    }
   },
   "types_to_exclude": [
    "module",
    "function",
    "builtin_function_or_method",
    "instance",
    "_Feature"
   ],
   "window_display": false
  }
 },
 "nbformat": 4,
 "nbformat_minor": 4
}
